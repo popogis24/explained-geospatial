{
 "cells": [
  {
   "cell_type": "markdown",
   "metadata": {},
   "source": [
    "# Visualização de Dados Geoespaciais\n",
    "\n",
    "Se você já fez layouts no ArcGIS ou QGIS, aqui vamos aprender a fazer o mesmo programaticamente! É como ter um cartógrafo digital que segue suas instruções para criar mapas bonitos e informativos.\n",
    "\n",
    "## Objetivos\n",
    "- Criar mapas estáticos (como layouts tradicionais)\n",
    "- Desenvolver mapas interativos (como WebGIS)\n",
    "- Personalizar estilos (como design cartográfico)\n",
    "- Combinar diferentes tipos de dados (como atlas digitais)"
   ]
  },
  {
   "cell_type": "markdown",
   "metadata": {},
   "source": [
    "## 1. Configuração do Ambiente\n",
    "\n",
    "Vamos preparar nosso estúdio de cartografia digital:"
   ]
  },
  {
   "cell_type": "code",
   "execution_count": null,
   "metadata": {},
   "source": [
    "# Nossa mesa de trabalho cartográfica:\n",
    "import geopandas as gpd          # Para dados espaciais\n",
    "import folium                    # Para mapas web (como Google Maps)\n",
    "import matplotlib.pyplot as plt   # Para mapas estáticos (como layouts)\n",
    "import contextily as ctx         # Para mapas base (como OpenStreetMap)\n",
    "import numpy as np               # Para cálculos\n",
    "import rasterio                  # Para dados matriciais\n",
    "from rasterio.plot import show   # Para mostrar rasters\n",
    "import seaborn as sns           # Para cores bonitas\n",
    "\n",
    "# Configurando o tamanho padrão dos mapas\n",
    "plt.rcParams['figure.figsize'] = (12, 8)"
   ]
  },
  {
   "cell_type": "markdown",
   "metadata": {},
   "source": [
    "## 2. Mapas Estáticos com Matplotlib e GeoPandas\n",
    "\n",
    "Vamos começar com mapas tradicionais, como aqueles que você imprimiria:"
   ]
  },
  {
   "cell_type": "code",
   "execution_count": null,
   "metadata": {},
   "source": [
    "# Carregando nossa base cartográfica\n",
    "estados = gpd.read_file('../data/raw/BR_UF_2022.shp')\n",
    "\n",
    "# Criando diferentes tipos de mapas\n",
    "# Como fazer vários layouts diferentes\n",
    "fig, ((ax1, ax2), (ax3, ax4)) = plt.subplots(2, 2, figsize=(15, 15))\n",
    "\n",
    "# Mapa básico\n",
    "# Como um mapa político simples\n",
    "estados.plot(ax=ax1)\n",
    "ax1.set_title('Divisão Política')\n",
    "\n",
    "# Mapa coroplético\n",
    "# Como um mapa temático de áreas\n",
    "estados.plot(column='area_km2', \n",
    "            cmap='YlOrRd',      # Esquema de cores\n",
    "            legend=True,        # Legenda\n",
    "            ax=ax2)\n",
    "ax2.set_title('Área dos Estados')\n",
    "\n",
    "# Mapa categórico\n",
    "# Como um mapa de regiões\n",
    "estados.plot(column='regiao',\n",
    "            categorical=True,   # Cores por categoria\n",
    "            legend=True,\n",
    "            ax=ax3)\n",
    "ax3.set_title('Regiões do Brasil')\n",
    "\n",
    "# Mapa com rótulos\n",
    "# Como adicionar nomes nos mapas\n",
    "estados.plot(ax=ax4)\n",
    "for idx, row in estados.iterrows():\n",
    "    ax4.annotate(row['sigla'],             # Texto\n",
    "                 xy=row.geometry.centroid.coords[0],  # Posição\n",
    "                 ha='center')              # Alinhamento\n",
    "ax4.set_title('Estados com Siglas')\n",
    "\n",
    "plt.tight_layout()\n",
    "plt.show()"
   ]
  },
  {
   "cell_type": "markdown",
   "metadata": {},
   "source": [
    "## 3. Mapas Interativos com Folium\n",
    "\n",
    "Agora vamos fazer mapas que você pode explorar como no Google Maps:"
   ]
  },
  {
   "cell_type": "code",
   "execution_count": null,
   "metadata": {},
   "source": [
    "# Criando um mapa base\n",
    "# Como começar com um mapa do OpenStreetMap\n",
    "m = folium.Map(location=[-15.7801, -47.9292],  # Brasília\n",
    "               zoom_start=4)\n",
    "\n",
    "# Adicionando camada coroplética\n",
    "# Como adicionar um mapa temático interativo\n",
    "folium.Choropleth(\n",
    "    geo_data=estados.__geo_interface__,  # Geometrias\n",
    "    name='choropleth',                   # Nome da camada\n",
    "    data=estados,                        # Dados\n",
    "    columns=['sigla', 'area_km2'],       # Colunas para o mapa\n",
    "    key_on='feature.properties.sigla',   # Campo de ligação\n",
    "    fill_color='YlOrRd',                 # Esquema de cores\n",
    "    fill_opacity=0.7,                    # Transparência\n",
    "    line_opacity=0.2,                    # Linhas\n",
    "    legend_name='Área (km²)'             # Legenda\n",
    ").add_to(m)\n",
    "\n",
    "# Adicionando controle de camadas\n",
    "# Como um TOC interativo\n",
    "folium.LayerControl().add_to(m)\n",
    "\n",
    "# Mostrando o mapa\n",
    "m"
   ]
  },
  {
   "cell_type": "markdown",
   "metadata": {},
   "source": [
    "## 4. Mapas com Contextily (Mapas Base)\n",
    "\n",
    "Vamos adicionar mapas base bonitos aos nossos mapas estáticos:"
   ]
  },
  {
   "cell_type": "code",
   "execution_count": null,
   "metadata": {},
   "source": [
    "# Reprojetando para Web Mercator\n",
    "# Como ajustar para o sistema do OpenStreetMap\n",
    "estados_web = estados.to_crs(epsg=3857)\n",
    "\n",
    "# Criando mapas com diferentes fundos\n",
    "fig, (ax1, ax2) = plt.subplots(1, 2, figsize=(15, 7))\n",
    "\n",
    "# Mapa com OpenStreetMap\n",
    "# Como usar um mapa topográfico de fundo\n",
    "estados_web.plot(ax=ax1, alpha=0.5)\n",
    "ctx.add_basemap(ax1)\n",
    "ax1.set_title('Com OpenStreetMap')\n",
    "\n",
    "# Mapa com relevo\n",
    "# Como usar um mapa de terreno\n",
    "estados_web.plot(ax=ax2, alpha=0.5)\n",
    "ctx.add_basemap(ax2, source=ctx.providers.Stamen.Terrain)\n",
    "ax2.set_title('Com Stamen Terrain')\n",
    "\n",
    "plt.tight_layout()\n",
    "plt.show()"
   ]
  },
  {
   "cell_type": "markdown",
   "metadata": {},
   "source": [
    "## 5. Visualizações Temáticas Avançadas\n",
    "\n",
    "Vamos criar mapas mais sofisticados para análises específicas:"
   ]
  },
  {
   "cell_type": "code",
   "execution_count": null,
   "metadata": {},
   "source": [
    "# Criando dados de exemplo\n",
    "# Como simular dados demográficos\n",
    "estados['populacao'] = np.random.randint(1000000, 50000000, size=len(estados))\n",
    "estados['densidade'] = estados['populacao'] / estados['area_km2']\n",
    "\n",
    "# Criando visualizações temáticas\n",
    "fig, ((ax1, ax2), (ax3, ax4)) = plt.subplots(2, 2, figsize=(15, 15))\n",
    "\n",
    "# Mapa de densidade\n",
    "# Como um mapa demográfico\n",
    "estados.plot(column='densidade',\n",
    "            cmap='viridis',\n",
    "            legend=True,\n",
    "            legend_kwds={'label': 'Habitantes/km²'},\n",
    "            ax=ax1)\n",
    "ax1.set_title('Densidade Populacional')\n",
    "\n",
    "# Mapa de bolhas\n",
    "# Como símbolos proporcionais\n",
    "estados.plot(ax=ax2)\n",
    "estados.centroid.plot(ax=ax2,\n",
    "                     markersize=estados['populacao']/500000,\n",
    "                     alpha=0.5)\n",
    "ax2.set_title('População (tamanho proporcional)')\n",
    "\n",
    "# Mapa de calor\n",
    "# Como uma superfície de densidade\n",
    "estados.plot(column='densidade',\n",
    "            cmap='hot_r',\n",
    "            legend=True,\n",
    "            ax=ax3)\n",
    "ax3.set_title('Mapa de Calor - Densidade')\n",
    "\n",
    "# Mapa categorizado\n",
    "# Como classes de densidade\n",
    "estados['categoria_densidade'] = pd.qcut(estados['densidade'], \n",
    "                                        q=5, \n",
    "                                        labels=['Muito Baixa', 'Baixa', 'Média', \n",
    "                                               'Alta', 'Muito Alta'])\n",
    "estados.plot(column='categoria_densidade',\n",
    "            categorical=True,\n",
    "            legend=True,\n",
    "            ax=ax4)\n",
    "ax4.set_title('Categorias de Densidade')\n",
    "\n",
    "plt.tight_layout()\n",
    "plt.show()"
   ]
  },
  {
   "cell_type": "markdown",
   "metadata": {},
   "source": [
    "## 6. Combinando Dados Vetoriais e Matriciais\n",
    "\n",
    "Vamos criar mapas que misturam diferentes tipos de dados:"
   ]
  },
  {
   "cell_type": "code",
   "execution_count": null,
   "metadata": {},
   "source": [
    "# Lendo um raster\n",
    "# Como carregar uma imagem ou MDT\n",
    "with rasterio.open('../data/processed/exemplo.tif') as src:\n",
    "    raster = src.read(1)\n",
    "    raster_extent = [src.bounds.left, src.bounds.right,\n",
    "                     src.bounds.bottom, src.bounds.top]\n",
    "\n",
    "# Criando um mapa combinado\n",
    "# Como sobrepor vetores em uma imagem\n",
    "fig, ax = plt.subplots(figsize=(12, 8))\n",
    "\n",
    "# Plotando o raster\n",
    "# Como uma imagem de fundo\n",
    "im = ax.imshow(raster, \n",
    "               extent=raster_extent,\n",
    "               cmap='terrain')\n",
    "\n",
    "# Plotando os vetores\n",
    "# Como uma camada de overlay\n",
    "estados.plot(ax=ax,\n",
    "            facecolor='none',\n",
    "            edgecolor='black',\n",
    "            linewidth=1)\n",
    "\n",
    "plt.colorbar(im, label='Valor')\n",
    "plt.title('Limites sobre Raster')\n",
    "plt.show()"
   ]
  },
  {
   "cell_type": "markdown",
   "metadata": {},
   "source": [
    "## 7. Exercícios Práticos\n",
    "\n",
    "Vamos praticar como um cartógrafo digital:\n",
    "\n",
    "1. Mapas Temáticos:\n",
    "   - Crie um mapa de dados socioeconômicos\n",
    "   - Adicione elementos cartográficos\n",
    "   - Escolha cores apropriadas\n",
    "   - Exporte em alta resolução\n",
    "\n",
    "2. Mapas Web:\n",
    "   - Faça um mapa Folium multicamadas\n",
    "   - Adicione popups informativos\n",
    "   - Configure a legenda e controles\n",
    "   - Personalize os estilos\n",
    "\n",
    "3. Atlas Digital:\n",
    "   - Combine vetores e rasters\n",
    "   - Crie uma série de mapas temáticos\n",
    "   - Adicione elementos cartográficos\n",
    "   - Monte um layout profissional"
   ]
  }
 ],
 "metadata": {
  "kernelspec": {
   "display_name": "Python 3",
   "language": "python",
   "name": "python3"
  },
  "language_info": {
   "codemirror_mode": {
    "name": "ipython",
    "version": 3
   },
   "file_extension": ".py",
   "mimetype": "text/x-python",
   "name": "python",
   "nbconvert_exporter": "python",
   "pygments_lexer": "ipython3",
   "version": "3.8.0"
  }
 },
 "nbformat": 4,
 "nbformat_minor": 4
}