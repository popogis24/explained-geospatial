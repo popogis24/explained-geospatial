{
 "cells": [
  {
   "cell_type": "markdown",
   "metadata": {},
   "source": [
    "# Formatos de Dados Espaciais\n",
    "\n",
    "Assim como temos diferentes formatos de arquivo para fotos (JPG, PNG) ou documentos (DOC, PDF), também temos vários formatos para dados espaciais. É como ter diferentes tipos de gavetas na mapoteca, cada uma ideal para um tipo de mapa!\n",
    "\n",
    "## Objetivos\n",
    "- Conhecer os principais formatos de dados espaciais (nossas \"gavetas digitais\")\n",
    "- Aprender a ler e salvar em diferentes formatos (como arquivar e recuperar mapas)\n",
    "- Entender quando usar cada formato (escolher a gaveta certa)\n",
    "- Converter entre formatos (como fazer cópias em diferentes papéis)"
   ]
  },
  {
   "cell_type": "markdown",
   "metadata": {},
   "source": [
    "## 1. Configuração do Ambiente\n",
    "\n",
    "Vamos preparar nossas ferramentas para trabalhar com diferentes formatos:"
   ]
  },
  {
   "cell_type": "code",
   "execution_count": null,
   "metadata": {},
   "source": [
    "# Nossa caixa de ferramentas para diferentes formatos:\n",
    "import geopandas as gpd    # Para dados vetoriais (como desenhos técnicos)\n",
    "import pandas as pd        # Para tabelas (como planilhas de atributos)\n",
    "import rasterio           # Para dados matriciais (como fotos aéreas)\n",
    "import json               # Para trabalhar com GeoJSON (como um bloco de notas digital)\n",
    "from shapely.geometry import shape  # Para manipular formas geométricas\n",
    "import matplotlib.pyplot as plt    # Para visualizar nossos dados\n",
    "\n",
    "plt.rcParams['figure.figsize'] = (12, 8)"
   ]
  },
  {
   "cell_type": "markdown",
   "metadata": {},
   "source": [
    "## 2. Formatos Vetoriais\n",
    "\n",
    "### 2.1 Shapefile (.shp)\n",
    "É como o formato PDF dos dados espaciais:\n",
    "- Todo mundo consegue abrir\n",
    "- Vem com vários arquivos juntos (.shp, .dbf, .shx, .prj)\n",
    "- É como uma pasta com diferentes partes do mesmo mapa"
   ]
  },
  {
   "cell_type": "code",
   "execution_count": null,
   "metadata": {},
   "source": [
    "# Lendo um shapefile\n",
    "# Como abrir uma pasta de documentos relacionados\n",
    "estados_shp = gpd.read_file('../data/raw/BR_UF_2022.shp')\n",
    "print(\"Estrutura do nosso shapefile (como um índice):\")\n",
    "print(estados_shp.info())\n",
    "\n",
    "# Salvando um shapefile\n",
    "# Como fazer uma cópia organizada dos documentos\n",
    "estados_shp.to_file('../data/processed/estados_exemplo.shp')"
   ]
  },
  {
   "cell_type": "markdown",
   "metadata": {},
   "source": [
    "### 2.2 GeoJSON (.geojson)\n",
    "É como um arquivo de texto que qualquer um pode ler:\n",
    "- Fácil de abrir até no bloco de notas\n",
    "- Muito usado na web (como HTML para mapas)\n",
    "- Ótimo para compartilhar dados simples"
   ]
  },
  {
   "cell_type": "code",
   "execution_count": null,
   "metadata": {},
   "source": [
    "# Convertendo para GeoJSON\n",
    "# Como passar um documento formal para uma linguagem mais simples\n",
    "estados_shp.to_file('../data/processed/estados.geojson', driver='GeoJSON')\n",
    "\n",
    "# Lendo GeoJSON\n",
    "# Como abrir nossa versão simplificada\n",
    "estados_geojson = gpd.read_file('../data/processed/estados.geojson')\n",
    "\n",
    "# Vamos ver como é a estrutura do GeoJSON\n",
    "# É como olhar o conteúdo do arquivo de texto\n",
    "print(\"\\nPrimeira feature em GeoJSON (como uma ficha de cadastro):\")\n",
    "print(json.dumps(json.loads(estados_geojson.iloc[0:1].to_json()), indent=2))"
   ]
  },
  {
   "cell_type": "markdown",
   "metadata": {},
   "source": [
    "### 2.3 GeoPackage (.gpkg)\n",
    "É como um arquivo ZIP moderno:\n",
    "- Pode guardar vários mapas juntos\n",
    "- Mais eficiente que shapefile\n",
    "- Como uma pasta compactada bem organizada"
   ]
  },
  {
   "cell_type": "code",
   "execution_count": null,
   "metadata": {},
   "source": [
    "# Salvando em GeoPackage\n",
    "# Como criar um arquivo compactado organizado\n",
    "estados_shp.to_file('../data/processed/brasil.gpkg', driver='GPKG', layer='estados')\n",
    "\n",
    "# Lendo do GeoPackage\n",
    "# Como abrir um arquivo da nossa pasta compactada\n",
    "estados_gpkg = gpd.read_file('../data/processed/brasil.gpkg', layer='estados')\n",
    "\n",
    "# Vendo o que tem dentro do GeoPackage\n",
    "# Como listar o conteúdo da pasta\n",
    "import fiona\n",
    "print(\"\\nCamadas no GeoPackage (como arquivos numa pasta):\")\n",
    "print(fiona.listlayers('../data/processed/brasil.gpkg'))"
   ]
  },
  {
   "cell_type": "markdown",
   "metadata": {},
   "source": [
    "## 3. Formatos Matriciais\n",
    "\n",
    "### 3.1 GeoTIFF (.tif)\n",
    "É como uma foto com coordenadas:\n",
    "- O formato padrão para imagens georreferenciadas\n",
    "- Pode ter várias bandas (como RGB numa foto)\n",
    "- Guarda informação de localização junto"
   ]
  },
  {
   "cell_type": "code",
   "execution_count": null,
   "metadata": {},
   "source": [
    "# Exemplo de leitura de GeoTIFF\n",
    "# Como abrir uma foto aérea com coordenadas\n",
    "try:\n",
    "    with rasterio.open('../data/raw/exemplo_dem.tif') as src:\n",
    "        print(\"Informações da nossa imagem:\")\n",
    "        print(f\"Tamanho: {src.width}x{src.height} pixels\")\n",
    "        print(f\"Sistema de Coordenadas: {src.crs}\")\n",
    "        print(f\"Número de bandas (como camadas): {src.count}\")\n",
    "except:\n",
    "    print(\"Arquivo de exemplo não encontrado (como procurar uma foto que não está na pasta)\")"
   ]
  },
  {
   "cell_type": "markdown",
   "metadata": {},
   "source": [
    "### 3.2 Outros Formatos Matriciais\n",
    "\n",
    "- **ASCII Grid (.asc)**\n",
    "  - Como uma planilha de números\n",
    "  - Fácil de ler, mas ocupa muito espaço\n",
    "  - Útil para dados simples\n",
    "\n",
    "- **NetCDF (.nc)**\n",
    "  - Como um banco de dados científico\n",
    "  - Bom para dados meteorológicos\n",
    "  - Pode guardar várias dimensões (tempo, profundidade)\n",
    "\n",
    "- **JPEG2000 (.jp2)**\n",
    "  - Como uma foto muito comprimida\n",
    "  - Bom para imagens de satélite grandes\n",
    "  - Economiza espaço mantendo qualidade"
   ]
  },
  {
   "cell_type": "markdown",
   "metadata": {},
   "source": [
    "## 4. Comparação de Formatos\n",
    "\n",
    "### Vetoriais:\n",
    "| Formato    | Vantagens | Desvantagens |\n",
    "|------------|-----------|---------------|\n",
    "| Shapefile  | - Todo mundo usa<br>- Funciona em todo lugar | - Nomes curtos de campos<br>- Vários arquivos soltos |\n",
    "| GeoJSON    | - Fácil de ler<br>- Ótimo para web | - Arquivos grandes<br>- Mais lento |\n",
    "| GeoPackage | - Tudo num arquivo só<br>- Mais moderno | - Nem todo software abre<br>- Menos comum |\n",
    "\n",
    "É como escolher entre:\n",
    "- Shapefile = PDF (padrão universal)\n",
    "- GeoJSON = TXT (simples e acessível)\n",
    "- GeoPackage = ZIP (moderno e organizado)\n",
    "\n",
    "### Matriciais:\n",
    "| Formato    | Vantagens | Desvantagens |\n",
    "|------------|-----------|---------------|\n",
    "| GeoTIFF    | - Padrão universal<br>- Boa compressão | - Complexo para editar |\n",
    "| ASCII Grid | - Simples de entender<br>- Fácil de editar | - Arquivos enormes |\n",
    "| NetCDF     | - Muito flexível<br>- Bom para séries | - Mais complicado |\n",
    "\n",
    "É como escolher entre:\n",
    "- GeoTIFF = JPG (padrão para fotos)\n",
    "- ASCII Grid = TXT (simples mas grande)\n",
    "- NetCDF = ZIP com extras (complexo mas poderoso)"
   ]
  },
  {
   "cell_type": "markdown",
   "metadata": {},
   "source": [
    "## 5. Exercícios Práticos\n",
    "\n",
    "Vamos praticar como um arquivista de mapas digitais:\n",
    "\n",
    "1. Conversão de Formatos:\n",
    "   - Pegue o shapefile dos estados\n",
    "   - Salve em GeoJSON e GeoPackage\n",
    "   - Compare o tamanho dos arquivos\n",
    "   - Como escolher entre qualidade e espaço\n",
    "\n",
    "2. Manipulação de Atributos:\n",
    "   - Adicione novos dados aos estados\n",
    "   - Salve em diferentes formatos\n",
    "   - Veja como cada formato lida com os dados\n",
    "   - Como organizar informações extras\n",
    "\n",
    "3. Análise de Performance:\n",
    "   - Compare o tempo de abrir cada formato\n",
    "   - Teste com dados grandes e pequenos\n",
    "   - Descubra qual é melhor para cada uso\n",
    "   - Como escolher a ferramenta certa"
   ]
  }
 ],
 "metadata": {
  "kernelspec": {
   "display_name": "Python 3",
   "language": "python",
   "name": "python3"
  },
  "language_info": {
   "codemirror_mode": {
    "name": "ipython",
    "version": 3
   },
   "file_extension": ".py",
   "mimetype": "text/x-python",
   "name": "python",
   "nbconvert_exporter": "python",
   "pygments_lexer": "ipython3",
   "version": "3.8.0"
  }
 },
 "nbformat": 4,
 "nbformat_minor": 4
}
