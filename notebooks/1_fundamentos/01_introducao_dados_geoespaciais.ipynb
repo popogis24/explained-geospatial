{
 "cells": [
  {
   "cell_type": "markdown",
   "metadata": {},
   "source": [
    "# Introdução aos Dados Geoespaciais\n",
    "\n",
    "Imagine que você está organizando uma mapoteca digital. Assim como numa mapoteca física temos diferentes tipos de mapas (topográficos, temáticos, etc.), no mundo digital também temos diferentes formas de representar informações espaciais. Vamos aprender como trabalhar com elas usando Python!\n",
    "\n",
    "## Objetivos\n",
    "- Entender o que são dados geoespaciais (nossos mapas digitais)\n",
    "- Conhecer os principais tipos de dados espaciais (como se fossem diferentes tipos de papel e escalas)\n",
    "- Compreender a diferença entre dados vetoriais e matriciais (como mapas em papel vegetal vs. fotos aéreas)\n",
    "- Realizar operações básicas (como quando fazemos medições e sobreposições manuais)"
   ]
  },
  {
   "cell_type": "markdown",
   "metadata": {},
   "source": [
    "## 1. Configuração do Ambiente\n",
    "\n",
    "Primeiro, vamos preparar nossas ferramentas de trabalho. É como separar as réguas, esquadros e compassos antes de começar a trabalhar com mapas físicos:"
   ]
  },
  {
   "cell_type": "code",
   "execution_count": null,
   "metadata": {},
   "outputs": [],
   "source": [
    "# Importando nossas ferramentas digitais\n",
    "# É como pegar cada instrumento da gaveta:\n",
    "\n",
    "import geopandas as gpd      # Nossa prancheta digital para trabalhar com mapas vetoriais\n",
    "import pandas as pd          # Nossa planilha para organizar dados\n",
    "import matplotlib.pyplot as plt  # Nossa impressora para visualizar os mapas\n",
    "import numpy as np           # Nossa calculadora avançada\n",
    "\n",
    "# Configurando o tamanho dos nossos mapas\n",
    "# Como ajustar o tamanho do papel na prancheta\n",
    "plt.rcParams['figure.figsize'] = (12, 8)"
   ]
  },
  {
   "cell_type": "markdown",
   "metadata": {},
   "source": [
    "## 2. O que são Dados Geoespaciais?\n",
    "\n",
    "Dados geoespaciais são como mapas digitais inteligentes. Se num mapa em papel você tem símbolos, cores e anotações, num dado geoespacial você tem:\n",
    "- Localização precisa (como coordenadas GPS)\n",
    "- Atributos (como uma tabela de informações colada no mapa)\n",
    "- Relações espaciais (como quando você sobrepõe mapas em papel vegetal)\n",
    "\n",
    "### 2.1 Tipos Principais de Dados Geoespaciais\n",
    "\n",
    "1. **Dados Vetoriais**:\n",
    "   - São como desenhar com caneta em um papel vegetal\n",
    "   - Pontos: como alfinetes num mapa (ex: localização de escolas)\n",
    "   - Linhas: como um barbante esticado (ex: rios, estradas)\n",
    "   - Polígonos: como contornos fechados (ex: limites de municípios)\n",
    "   \n",
    "2. **Dados Matriciais (Raster)**:\n",
    "   - São como fotos aéreas ou imagens de satélite\n",
    "   - Imagine uma folha quadriculada onde cada quadradinho tem um valor\n",
    "   - Perfeito para representar fenômenos contínuos (elevação, temperatura, chuva)"
   ]
  },
  {
   "cell_type": "markdown",
   "metadata": {},
   "source": [
    "## 3. Exemplo Prático: Dados Vetoriais\n",
    "\n",
    "Vamos trabalhar com algo familiar: os estados do Brasil. É como pegar aquele mapa político que todo mundo conhece e transformá-lo em dados digitais:"
   ]
  },
  {
   "cell_type": "code",
   "execution_count": null,
   "metadata": {},
   "outputs": [],
   "source": [
    "# Carregando os dados dos estados brasileiros\n",
    "# É como abrir um mapa do Brasil na nossa prancheta digital\n",
    "# Vai na pasta data/raw/ e copia o caminho do arquivo .shp e cola aqui no lugar\n",
    "estados = gpd.read_file('cole o caminho do BR_UF_2023 aqui')\n",
    "\n",
    "# Vamos dar uma olhada nas informações, como quando verificamos a legenda de um mapa\n",
    "print(\"Informações sobre nosso mapa digital:\")\n",
    "print(estados.info())\n",
    "\n",
    "print(\"\\nPrimeiras linhas da nossa tabela de atributos:\")\n",
    "print(estados.head())  # Como olhar os primeiros registros da tabela de atributos"
   ]
  },
  {
   "cell_type": "markdown",
   "metadata": {},
   "source": [
    "### 3.1 Visualização Básica\n",
    "\n",
    "Agora vamos ver nosso mapa na tela, como se estivéssemos pregando ele na parede:"
   ]
  },
  {
   "cell_type": "code",
   "execution_count": null,
   "metadata": {},
   "outputs": [],
   "source": [
    "# Criando nosso mapa básico\n",
    "# É como preparar uma folha em branco e desenhar nela\n",
    "fig, ax = plt.subplots(1, 1)\n",
    "\n",
    "# Plotando os estados\n",
    "# Como desenhar os contornos dos estados no papel\n",
    "estados.plot(ax=ax)\n",
    "\n",
    "# Adicionando um título\n",
    "# Como escrever o título no topo do mapa\n",
    "ax.set_title('Estados do Brasil')\n",
    "\n",
    "# Ajustando a escala\n",
    "# Como garantir que o mapa não fique distorcido\n",
    "plt.axis('equal')\n",
    "\n",
    "# Mostrando o resultado\n",
    "plt.show()"
   ]
  },
  {
   "cell_type": "markdown",
   "metadata": {},
   "source": [
    "## 4. Conceitos Importantes\n",
    "\n",
    "### 4.1 Sistema de Coordenadas\n",
    "- É como a grade de referência num mapa\n",
    "- Pode ser em graus (latitude/longitude) ou metros (UTM)\n",
    "- Funciona como o endereço de cada ponto no mapa\n",
    "\n",
    "### 4.2 Atributos\n",
    "- São as informações extras sobre cada elemento\n",
    "- Como uma etiqueta colada em cada parte do mapa\n",
    "- Exemplo: população de cada estado, nome, área\n",
    "\n",
    "### 4.3 Topologia\n",
    "- São as relações espaciais entre os elementos\n",
    "- Como quando você sabe que dois estados são vizinhos\n",
    "- Ou quando uma estrada cruza um rio"
   ]
  },
  {
   "cell_type": "markdown",
   "metadata": {},
   "source": [
    "## 5. Exercícios Práticos\n",
    "\n",
    "Agora é sua vez de praticar! Imagine que você é o cartógrafo digital:\n",
    "\n",
    "1. Calcule áreas:\n",
    "   - Some a área de todos os estados para ter a área do Brasil\n",
    "   - Descubra qual é o maior e o menor estado\n",
    "   - Compare as áreas, como faria com uma régua e um planímetro\n",
    "\n",
    "2. Crie um mapa temático:\n",
    "   - Pinte cada estado de acordo com sua região\n",
    "   - Adicione os nomes dos estados\n",
    "   - É como fazer uma legenda colorida num mapa manual\n",
    "\n",
    "3. Faça uma análise de vizinhança:\n",
    "   - Liste todos os estados que fazem fronteira com São Paulo\n",
    "   - Calcule o comprimento das fronteiras\n",
    "   - Como quando você segue o contorno com uma régua curva"
   ]
  }
 ],
 "metadata": {
  "kernelspec": {
   "display_name": ".venv",
   "language": "python",
   "name": "python3"
  },
  "language_info": {
   "codemirror_mode": {
    "name": "ipython",
    "version": 3
   },
   "file_extension": ".py",
   "mimetype": "text/x-python",
   "name": "python",
   "nbconvert_exporter": "python",
   "pygments_lexer": "ipython3",
   "version": "3.11.10"
  }
 },
 "nbformat": 4,
 "nbformat_minor": 4
}
