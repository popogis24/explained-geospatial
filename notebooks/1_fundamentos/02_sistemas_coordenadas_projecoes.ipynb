{
 "cells": [
  {
   "cell_type": "markdown",
   "metadata": {},
   "source": [
    "# Sistemas de Coordenadas e Projeções\n",
    "\n",
    "Imagine que você precisa passar as informações de um globo terrestre para uma folha de papel plana. Não é tão simples, né? É como tentar embrulhar uma laranja com um papel sem amassá-lo - sempre vai ter alguma distorção! Vamos entender como lidar com isso no mundo digital.\n",
    "\n",
    "## Objetivos\n",
    "- Entender sistemas de coordenadas (como definimos \"endereços\" na Terra)\n",
    "- Compreender projeções cartográficas (diferentes maneiras de \"achatar\" o globo)\n",
    "- Aprender a transformar dados entre sistemas (como converter endereços entre CEP e coordenadas)\n",
    "- Escolher a melhor projeção para cada caso (como escolher a escala certa para cada mapa)"
   ]
  },
  {
   "cell_type": "markdown",
   "metadata": {},
   "source": [
    "## 1. Configuração do Ambiente\n",
    "\n",
    "Vamos preparar nossas ferramentas digitais, como quando separamos o globo, as réguas e os mapas antes de começar um projeto:"
   ]
  },
  {
   "cell_type": "code",
   "execution_count": 2,
   "metadata": {},
   "outputs": [],
   "source": [
    "# Nossa caixa de ferramentas digital:\n",
    "import geopandas as gpd          # Para trabalhar com mapas vetoriais\n",
    "import pandas as pd              # Para organizar dados em tabelas\n",
    "import matplotlib.pyplot as plt   # Para visualizar nossos mapas\n",
    "from pyproj import CRS           # Nossa \"máquina de projeções\"\n",
    "import numpy as np               # Para cálculos matemáticos\n",
    "\n",
    "# Configurando o tamanho padrão dos nossos mapas\n",
    "plt.rcParams['figure.figsize'] = (12, 8)"
   ]
  },
  {
   "cell_type": "markdown",
   "metadata": {},
   "source": [
    "## 2. Sistemas de Coordenadas Geográficas\n",
    "\n",
    "### 2.1 Conceitos Básicos\n",
    "\n",
    "Um sistema de coordenadas geográficas é como um sistema de endereços para a Terra toda:\n",
    "\n",
    "- **Latitude**: É como contar quarteirões para norte ou sul do Equador\n",
    "  - Vai de 0° (Equador) até 90° (Polos)\n",
    "  - Norte é positivo, Sul é negativo\n",
    "  \n",
    "- **Longitude**: É como contar quarteirões para leste ou oeste de Greenwich\n",
    "  - Vai de 0° a 180°\n",
    "  - Leste é positivo, Oeste é negativo\n",
    "\n",
    "### 2.2 Datum\n",
    "O datum é como escolher qual \"modelo da Terra\" vamos usar:\n",
    "- É como quando você precisa decidir se usa o Google Maps ou o Waze\n",
    "- Cada um pode te dar coordenadas levemente diferentes\n",
    "- No Brasil usamos principalmente:\n",
    "  - SIRGAS 2000 (o padrão atual, como o Android mais novo)\n",
    "  - SAD 69 (o antigo, como um Android desatualizado)\n",
    "  - WGS 84 (o do GPS, como o sistema do Waze)"
   ]
  },
  {
   "cell_type": "markdown",
   "metadata": {},
   "source": [
    "## 3. Exemplo Prático: Verificando e Alterando SRC"
   ]
  },
  {
   "cell_type": "code",
   "execution_count": null,
   "metadata": {},
   "outputs": [],
   "source": [
    "# Carregando nosso mapa do Brasil\n",
    "# Como abrir um mapa que estava guardado na gaveta\n",
    "estados = gpd.read_file('../data/raw/BR_UF_2022.shp')\n",
    "\n",
    "# Vamos ver qual sistema de coordenadas ele usa\n",
    "# É como verificar a legenda do mapa para saber seu sistema\n",
    "print(\"Sistema de Referência de Coordenadas atual:\")\n",
    "print(estados.crs)\n",
    "\n",
    "# Vamos mudar para outro sistema (Projeção Cônica Conforme de Lambert)\n",
    "# É como redesenhar o mapa em outro tipo de papel\n",
    "estados_lambert = estados.to_crs("ESRI:102015")\n",
    "\n",
    "# Comparando os dois mapas lado a lado\n",
    "# Como colocar dois mapas na parede para ver as diferenças\n",
    "fig, (ax1, ax2) = plt.subplots(1, 2, figsize=(15, 6))\n",
    "\n",
    "estados.plot(ax=ax1)\n",
    "ax1.set_title('SRC Original (SIRGAS 2000)')\n",
    "\n",
    "estados_lambert.plot(ax=ax2)\n",
    "ax2.set_title('Projeção Lambert')\n",
    "\n",
    "plt.show()"
   ]
  },
  {
   "cell_type": "markdown",
   "metadata": {},
   "source": [
    "## 4. Projeções Cartográficas\n",
    "\n",
    "### 4.1 Tipos de Projeções\n",
    "\n",
    "Cada projeção preserva algumas características e distorce outras, como diferentes compromissos:\n",
    "\n",
    "1. **Conformes** (preservam ângulos)\n",
    "   - Boas para navegação\n",
    "   - Como manter os cruzamentos de ruas com os ângulos corretos\n",
    "   - Exemplo: Mercator (usado no Google Maps)\n",
    "   \n",
    "2. **Equivalentes** (preservam áreas)\n",
    "   - Ótimas para calcular tamanhos\n",
    "   - Como manter os terrenos com a área correta\n",
    "   - Exemplo: Albers (boa para mapas temáticos)\n",
    "   \n",
    "3. **Equidistantes** (preservam distâncias)\n",
    "   - Boas para medir distâncias em certas direções\n",
    "   - Como manter as distâncias corretas em uma direção\n",
    "   - Exemplo: Projeção Azimutal Equidistante\n",
    "\n",
    "### 4.2 Projeções Comuns no Brasil\n",
    "\n",
    "- **UTM**: Como dividir o Brasil em \"zonas de CEP\" grandes\n",
    "- **Policônica**: Uma antiga conhecida dos cartógrafos brasileiros\n",
    "- **Cônica Conforme de Lambert**: Boa para áreas que se estendem leste-oeste"
   ]
  },
  {
   "cell_type": "markdown",
   "metadata": {},
   "source": [
    "## 5. Trabalhando com UTM no Brasil"
   ]
  },
  {
   "cell_type": "code",
   "execution_count": null,
   "metadata": {},
   "outputs": [],
   "source": [
    "# Função para descobrir a zona UTM\n",
    "# Como descobrir o CEP de um lugar pela sua longitude\n",
    "def determinar_zona_utm(longitude):\n",
    "    return int((longitude + 180) / 6) + 1\n",
    "\n",
    "# Vamos ver em que zona está São Paulo\n",
    "longitude_sp = -46.6333\n",
    "zona_utm_sp = determinar_zona_utm(longitude_sp)\n",
    "\n",
    "print(f\"São Paulo está na zona UTM: {zona_utm_sp}\")\n",
    "\n",
    "# Convertendo para UTM\n",
    "# Como traduzir um endereço de latitude/longitude para metros\n",
    "epsg_utm = 31983  # SIRGAS 2000 / UTM zone 23S\n",
    "estados_utm = estados.to_crs(epsg=epsg_utm)\n",
    "\n",
    "# Visualizando\n",
    "estados_utm.plot()\n",
    "plt.title('Brasil em projeção UTM (Zona 23S)')\n",
    "plt.show()"
   ]
  },
  {
   "cell_type": "markdown",
   "metadata": {},
   "source": [
    "## 6. Exercícios Práticos\n",
    "\n",
    "Vamos praticar como um cartógrafo digital:\n",
    "\n",
    "1. Transformações de SRC:\n",
    "   - Converta o mapa do Brasil para diferentes projeções\n",
    "   - Compare as áreas calculadas em cada uma\n",
    "   - É como medir um mesmo terreno de formas diferentes\n",
    "   - Qual projeção seria melhor para cada tipo de análise?\n",
    "\n",
    "2. Análise de Distorções:\n",
    "   - Escolha um estado e calcule sua área em diferentes projeções\n",
    "   - Compare as diferenças percentuais\n",
    "   - Como quando comparamos medições de diferentes equipamentos\n",
    "   - Por que os valores são diferentes?\n",
    "\n",
    "3. Zonas UTM:\n",
    "   - Identifique todas as zonas UTM que cobrem o Brasil\n",
    "   - Faça um mapa mostrando essas zonas\n",
    "   - Como dividir o país em regiões de trabalho\n",
    "   - Discuta os desafios de trabalhar com várias zonas"
   ]
  }
 ],
 "metadata": {
  "kernelspec": {
   "display_name": ".venv",
   "language": "python",
   "name": "python3"
  },
  "language_info": {
   "codemirror_mode": {
    "name": "ipython",
    "version": 3
   },
   "file_extension": ".py",
   "mimetype": "text/x-python",
   "name": "python",
   "nbconvert_exporter": "python",
   "pygments_lexer": "ipython3",
   "version": "3.11.10"
  }
 },
 "nbformat": 4,
 "nbformat_minor": 4
}
