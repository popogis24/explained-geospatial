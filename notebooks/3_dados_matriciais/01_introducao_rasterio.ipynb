{
 "cells": [
  {
   "cell_type": "markdown",
   "metadata": {},
   "source": [
    "# Introdução ao Rasterio\n",
    "\n",
    "Se você já trabalhou com imagens de satélite ou MDTs no ArcGIS ou QGIS, o Rasterio é como ter essas mesmas ferramentas em Python! É como passar do modo visual para o modo programável de processamento de imagens.\n",
    "\n",
    "## Objetivos\n",
    "- Entender dados matriciais (como trabalhar com pixels)\n",
    "- Aprender a ler e escrever rasters (como importar/exportar imagens)\n",
    "- Compreender metadados (como ler as informações técnicas)\n",
    "- Fazer operações básicas (como processamento de imagens)"
   ]
  },
  {
   "cell_type": "markdown",
   "metadata": {},
   "source": [
    "## 1. Configuração do Ambiente\n",
    "\n",
    "Vamos preparar nosso laboratório de processamento de imagens digital:"
   ]
  },
  {
   "cell_type": "code",
   "execution_count": null,
   "metadata": {},
   "source": [
    "# Nossa estação de processamento de imagens:\n",
    "import rasterio           # Nossa ferramenta principal (como o ArcGIS Raster)\n",
    "import numpy as np        # Nossa calculadora matricial\n",
    "import matplotlib.pyplot as plt  # Nossa ferramenta de visualização\n",
    "from rasterio.plot import show   # Para mostrar rasters\n",
    "from rasterio.transform import from_origin  # Para georreferenciar\n",
    "\n",
    "# Configurando o tamanho dos nossos mapas\n",
    "plt.rcParams['figure.figsize'] = (12, 8)"
   ]
  },
  {
   "cell_type": "markdown",
   "metadata": {},
   "source": [
    "## 2. Conceitos Básicos\n",
    "\n",
    "### 2.1 O que são Dados Matriciais?\n",
    "\n",
    "Imagine uma folha quadriculada gigante:\n",
    "- Cada quadradinho é um pixel (como um sensor de câmera)\n",
    "- Todos os pixels têm o mesmo tamanho (como uma grade regular)\n",
    "- Cada pixel guarda um valor (como uma medição)\n",
    "- Podem ter várias camadas (como RGB numa foto)\n",
    "\n",
    "Exemplos comuns:\n",
    "- Imagens de satélite (como fotos aéreas)\n",
    "- MDTs (como uma maquete digital do terreno)\n",
    "- Mapas de temperatura (como uma termografia)\n",
    "- Dados de precipitação (como um radar meteorológico)"
   ]
  },
  {
   "cell_type": "markdown",
   "metadata": {},
   "source": [
    "## 3. Leitura e Visualização de Dados Raster"
   ]
  },
  {
   "cell_type": "code",
   "execution_count": null,
   "metadata": {},
   "source": [
    "# Vamos criar um raster de exemplo\n",
    "# Como gerar uma imagem sintética para testes\n",
    "def criar_raster_exemplo(output_path):\n",
    "    # Criando dados de exemplo (como um gradiente de cores)\n",
    "    data = np.linspace(0, 1, 100).reshape(10, 10)\n",
    "    \n",
    "    # Definindo o georreferenciamento\n",
    "    # Como colocar coordenadas na imagem\n",
    "    transform = from_origin(-46.65, -23.55, 0.01, 0.01)\n",
    "    \n",
    "    # Criando o arquivo\n",
    "    # Como salvar uma imagem georreferenciada\n",
    "    with rasterio.open(\n",
    "        output_path,\n",
    "        'w',\n",
    "        driver='GTiff',        # Formato (como TIFF)\n",
    "        height=data.shape[0],  # Altura em pixels\n",
    "        width=data.shape[1],   # Largura em pixels\n",
    "        count=1,               # Número de bandas\n",
    "        dtype=data.dtype,      # Tipo de dado\n",
    "        crs='EPSG:4326',       # Sistema de coordenadas\n",
    "        transform=transform    # Georreferenciamento\n",
    "    ) as dst:\n",
    "        dst.write(data, 1)    # Salvando os dados\n",
    "\n",
    "# Criando nosso arquivo de teste\n",
    "criar_raster_exemplo('../data/processed/exemplo.tif')\n",
    "\n",
    "# Lendo o raster\n",
    "# Como abrir uma imagem no SIG\n",
    "with rasterio.open('../data/processed/exemplo.tif') as src:\n",
    "    # Lendo os dados\n",
    "    data = src.read(1)\n",
    "    \n",
    "    # Mostrando informações técnicas\n",
    "    # Como ver as propriedades da imagem\n",
    "    print(\"Informações do nosso Raster:\")\n",
    "    print(f\"Tamanho: {src.width}x{src.height} pixels\")\n",
    "    print(f\"Número de bandas: {src.count}\")\n",
    "    print(f\"Sistema de coordenadas: {src.crs}\")\n",
    "    print(f\"Transformação: {src.transform}\\n\")\n",
    "    \n",
    "    # Visualizando o raster\n",
    "    # Como mostrar a imagem na tela\n",
    "    fig, ax = plt.subplots()\n",
    "    show(src, ax=ax)\n",
    "    plt.title('Nosso Raster de Exemplo')\n",
    "    plt.colorbar(label='Valor')\n",
    "    plt.show()"
   ]
  },
  {
   "cell_type": "markdown",
   "metadata": {},
   "source": [
    "## 4. Metadados e Propriedades"
   ]
  },
  {
   "cell_type": "code",
   "execution_count": null,
   "metadata": {},
   "source": [
    "# Explorando os metadados\n",
    "# Como ler a ficha técnica da imagem\n",
    "with rasterio.open('../data/processed/exemplo.tif') as src:\n",
    "    # Extensão geográfica\n",
    "    # Como ver os limites do mapa\n",
    "    print(\"Extensão do raster:\")\n",
    "    print(f\"Oeste: {src.bounds.left}\")\n",
    "    print(f\"Sul: {src.bounds.bottom}\")\n",
    "    print(f\"Leste: {src.bounds.right}\")\n",
    "    print(f\"Norte: {src.bounds.top}\\n\")\n",
    "    \n",
    "    # Resolução espacial\n",
    "    # Como ver o tamanho do pixel no terreno\n",
    "    print(\"Resolução:\")\n",
    "    print(f\"X: {src.res[0]} graus\")\n",
    "    print(f\"Y: {src.res[1]} graus\\n\")\n",
    "    \n",
    "    # Estatísticas básicas\n",
    "    # Como calcular valores gerais\n",
    "    data = src.read(1)\n",
    "    print(\"Estatísticas:\")\n",
    "    print(f\"Mínimo: {data.min()}\")\n",
    "    print(f\"Máximo: {data.max()}\")\n",
    "    print(f\"Média: {data.mean():.2f}\")\n",
    "    print(f\"Desvio padrão: {data.std():.2f}\")"
   ]
  },
  {
   "cell_type": "markdown",
   "metadata": {},
   "source": [
    "## 5. Operações Básicas com Rasters"
   ]
  },
  {
   "cell_type": "code",
   "execution_count": null,
   "metadata": {},
   "source": [
    "# Vamos fazer algumas operações básicas\n",
    "# Como processar uma imagem\n",
    "with rasterio.open('../data/processed/exemplo.tif') as src:\n",
    "    data = src.read(1)\n",
    "    profile = src.profile\n",
    "    \n",
    "    # Operações matemáticas\n",
    "    # Normalização (como ajuste de contraste)\n",
    "    data_norm = (data - data.min()) / (data.max() - data.min())\n",
    "    \n",
    "    # Classificação (como fatiamento)\n",
    "    data_class = (data_norm * 5).astype(int)\n",
    "    \n",
    "    # Visualização\n",
    "    fig, (ax1, ax2, ax3) = plt.subplots(1, 3, figsize=(15, 5))\n",
    "    \n",
    "    # Dados originais\n",
    "    im1 = ax1.imshow(data)\n",
    "    ax1.set_title('Original')\n",
    "    plt.colorbar(im1, ax=ax1)\n",
    "    \n",
    "    # Dados normalizados\n",
    "    im2 = ax2.imshow(data_norm)\n",
    "    ax2.set_title('Normalizado')\n",
    "    plt.colorbar(im2, ax=ax2)\n",
    "    \n",
    "    # Dados classificados\n",
    "    im3 = ax3.imshow(data_class, cmap='viridis')\n",
    "    ax3.set_title('Classificado')\n",
    "    plt.colorbar(im3, ax=ax3)\n",
    "    \n",
    "    plt.tight_layout()\n",
    "    plt.show()\n",
    "    \n",
    "    # Salvando o resultado classificado\n",
    "    # Como exportar uma nova imagem\n",
    "    profile.update(dtype=rasterio.int32)\n",
    "    with rasterio.open('../data/processed/exemplo_class.tif', 'w', **profile) as dst:\n",
    "        dst.write(data_class, 1)"
   ]
  },
  {
   "cell_type": "markdown",
   "metadata": {},
   "source": [
    "## 6. Máscaras e NoData"
   ]
  },
  {
   "cell_type": "code",
   "execution_count": null,
   "metadata": {},
   "source": [
    "# Trabalhando com máscaras\n",
    "# Como recortar ou filtrar uma imagem\n",
    "with rasterio.open('../data/processed/exemplo.tif') as src:\n",
    "    data = src.read(1)\n",
    "    profile = src.profile\n",
    "    \n",
    "    # Criando uma máscara\n",
    "    # Como selecionar pixels por valor\n",
    "    mascara = data > 0.5\n",
    "    data_mascarado = data.copy()\n",
    "    data_mascarado[~mascara] = src.nodata if src.nodata else -9999\n",
    "    \n",
    "    # Visualização\n",
    "    fig, (ax1, ax2) = plt.subplots(1, 2, figsize=(12, 5))\n",
    "    \n",
    "    im1 = ax1.imshow(data)\n",
    "    ax1.set_title('Original')\n",
    "    plt.colorbar(im1, ax=ax1)\n",
    "    \n",
    "    im2 = ax2.imshow(data_mascarado, mask=~mascara)\n",
    "    ax2.set_title('Com Máscara')\n",
    "    plt.colorbar(im2, ax=ax2)\n",
    "    \n",
    "    plt.tight_layout()\n",
    "    plt.show()"
   ]
  },
  {
   "cell_type": "markdown",
   "metadata": {},
   "source": [
    "## 7. Exercícios Práticos\n",
    "\n",
    "Vamos praticar como um analista de sensoriamento remoto:\n",
    "\n",
    "1. Manipulação Básica:\n",
    "   - Crie diferentes padrões de raster\n",
    "   - Aplique operações matemáticas\n",
    "   - Visualize os resultados\n",
    "   - Como processar uma imagem\n",
    "\n",
    "2. Análise de MDT:\n",
    "   - Carregue um modelo de elevação\n",
    "   - Calcule estatísticas por região\n",
    "   - Crie uma máscara de altitude\n",
    "   - Como analisar o relevo\n",
    "\n",
    "3. Transformações:\n",
    "   - Aplique diferentes classificações\n",
    "   - Normalize os valores\n",
    "   - Compare os resultados\n",
    "   - Como melhorar uma imagem"
   ]
  }
 ],
 "metadata": {
  "kernelspec": {
   "display_name": "Python 3",
   "language": "python",
   "name": "python3"
  },
  "language_info": {
   "codemirror_mode": {
    "name": "ipython",
    "version": 3
   },
   "file_extension": ".py",
   "mimetype": "text/x-python",
   "name": "python",
   "nbconvert_exporter": "python",
   "pygments_lexer": "ipython3",
   "version": "3.8.0"
  }
 },
 "nbformat": 4,
 "nbformat_minor": 4
}