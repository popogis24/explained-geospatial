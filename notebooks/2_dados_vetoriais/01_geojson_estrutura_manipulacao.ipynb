{
 "cells": [
  {
   "cell_type": "markdown",
   "metadata": {},
   "source": [
    "# Estrutura e Manipulação de GeoJSON\n",
    "\n",
    "O GeoJSON é como um caderno de anotações digital para dados espaciais. Se um shapefile é como uma planta técnica formal, o GeoJSON é como um croqui que qualquer um pode entender e modificar facilmente!\n",
    "\n",
    "## Objetivos\n",
    "- Entender a estrutura do GeoJSON (como organizar nosso caderno)\n",
    "- Criar e editar features (como fazer anotações e desenhos)\n",
    "- Validar dados (como revisar nossos desenhos)\n",
    "- Visualizar GeoJSON na web (como compartilhar nossos mapas online)"
   ]
  },
  {
   "cell_type": "markdown",
   "metadata": {},
   "source": [
    "## 1. Configuração do Ambiente\n",
    "\n",
    "Vamos preparar nossas ferramentas digitais:"
   ]
  },
  {
   "cell_type": "code",
   "execution_count": null,
   "metadata": {},
   "source": [
    "# Nossa caixa de ferramentas para trabalhar com GeoJSON:\n",
    "import geopandas as gpd          # Nossa prancheta digital\n",
    "import json                      # Para ler e escrever GeoJSON como texto\n",
    "from shapely.geometry import Point, LineString, Polygon, shape  # Nossas ferramentas de desenho\n",
    "import folium                    # Para fazer mapas web interativos\n",
    "import pandas as pd              # Para organizar dados tabulares\n",
    "import matplotlib.pyplot as plt   # Para visualizar nossos mapas\n",
    "\n",
    "plt.rcParams['figure.figsize'] = (12, 8)"
   ]
  },
  {
   "cell_type": "markdown",
   "metadata": {},
   "source": [
    "## 2. Estrutura do GeoJSON\n",
    "\n",
    "### 2.1 Elementos Básicos\n",
    "\n",
    "Um GeoJSON é como uma ficha cadastral com três partes principais:\n",
    "- **type**: O tipo de registro (como o cabeçalho da ficha)\n",
    "- **geometry**: O desenho em si (como um croqui anexado)\n",
    "- **properties**: Informações extras (como anotações na ficha)\n",
    "\n",
    "Vamos criar exemplos de cada tipo:"
   ]
  },
  {
   "cell_type": "code",
   "execution_count": null,
   "metadata": {},
   "source": [
    "# Criando um ponto (como marcar um local no mapa)\n",
    "ponto_geojson = {\n",
    "    \"type\": \"Feature\",\n",
    "    \"geometry\": {\n",
    "        \"type\": \"Point\",\n",
    "        \"coordinates\": [-46.6333, -23.5505]  # São Paulo\n",
    "    },\n",
    "    \"properties\": {\n",
    "        \"nome\": \"São Paulo\",\n",
    "        \"populacao\": 12325232\n",
    "    }\n",
    "}\n",
    "\n",
    "# Criando uma linha (como desenhar uma estrada)\n",
    "linha_geojson = {\n",
    "    \"type\": \"Feature\",\n",
    "    \"geometry\": {\n",
    "        \"type\": \"LineString\",\n",
    "        \"coordinates\": [\n",
    "            [-46.6333, -23.5505],  # São Paulo\n",
    "            [-43.1729, -22.9068]   # Rio de Janeiro\n",
    "        ]\n",
    "    },\n",
    "    \"properties\": {\n",
    "        \"nome\": \"Rodovia Presidente Dutra\",\n",
    "        \"extensao_km\": 402\n",
    "    }\n",
    "}\n",
    "\n",
    "print(\"Nossa ficha de ponto (como um pin no mapa):\")\n",
    "print(json.dumps(ponto_geojson, indent=2))"
   ]
  },
  {
   "cell_type": "markdown",
   "metadata": {},
   "source": [
    "### 2.2 FeatureCollection\n",
    "\n",
    "Uma FeatureCollection é como um álbum de fichas cadastrais:"
   ]
  },
  {
   "cell_type": "code",
   "execution_count": null,
   "metadata": {},
   "source": [
    "# Criando nossa coleção de features\n",
    "# Como juntar várias fichas num mesmo arquivo\n",
    "feature_collection = {\n",
    "    \"type\": \"FeatureCollection\",\n",
    "    \"features\": [ponto_geojson, linha_geojson]\n",
    "}\n",
    "\n",
    "# Salvando em arquivo\n",
    "# Como arquivar nossas fichas\n",
    "with open('../data/processed/exemplo.geojson', 'w') as f:\n",
    "    json.dump(feature_collection, f, indent=2)\n",
    "\n",
    "# Lendo com GeoPandas\n",
    "# Como abrir nosso arquivo de fichas\n",
    "gdf = gpd.read_file('../data/processed/exemplo.geojson')\n",
    "print(\"\\nNossos dados organizados em tabela:\")\n",
    "print(gdf)"
   ]
  },
  {
   "cell_type": "markdown",
   "metadata": {},
   "source": [
    "## 3. Manipulação com Python\n",
    "\n",
    "### 3.1 Criando Geometrias"
   ]
  },
  {
   "cell_type": "code",
   "execution_count": null,
   "metadata": {},
   "source": [
    "# Criando um polígono (como desenhar uma área)\n",
    "# Área metropolitana simplificada de SP\n",
    "coords = [\n",
    "    [-46.8, -23.7],  # Canto inferior esquerdo\n",
    "    [-46.8, -23.4],  # Canto superior esquerdo\n",
    "    [-46.4, -23.4],  # Canto superior direito\n",
    "    [-46.4, -23.7],  # Canto inferior direito\n",
    "    [-46.8, -23.7]   # Volta ao início para fechar\n",
    "]\n",
    "\n",
    "poligono = Polygon(coords)\n",
    "\n",
    "# Criando um GeoDataFrame\n",
    "# Como organizar nossa área em uma ficha formal\n",
    "gdf_poligono = gpd.GeoDataFrame(\n",
    "    {'nome': ['Região Metropolitana SP'],\n",
    "     'geometry': [poligono]},\n",
    "    crs=\"EPSG:4326\"\n",
    ")\n",
    "\n",
    "# Visualizando\n",
    "# Como ver nosso desenho na tela\n",
    "gdf_poligono.plot()\n",
    "plt.title('Área Metropolitana Simplificada')\n",
    "plt.show()"
   ]
  },
  {
   "cell_type": "markdown",
   "metadata": {},
   "source": [
    "### 3.2 Manipulando Propriedades"
   ]
  },
  {
   "cell_type": "code",
   "execution_count": null,
   "metadata": {},
   "source": [
    "# Adicionando informações à nossa área\n",
    "# Como preencher mais campos na ficha\n",
    "gdf_poligono['area_km2'] = gdf_poligono.geometry.area * 111 * 111  # Conversão aproximada para km²\n",
    "gdf_poligono['perimetro_km'] = gdf_poligono.geometry.length * 111  # Conversão aproximada para km\n",
    "\n",
    "print(\"Nossa ficha completa com cálculos:\")\n",
    "print(gdf_poligono)"
   ]
  },
  {
   "cell_type": "markdown",
   "metadata": {},
   "source": [
    "### 3.3 Visualização com Folium"
   ]
  },
  {
   "cell_type": "code",
   "execution_count": null,
   "metadata": {},
   "source": [
    "# Criando um mapa web\n",
    "# Como preparar nosso mapa para a internet\n",
    "m = folium.Map(location=[-23.5505, -46.6333], zoom_start=10)\n",
    "\n",
    "# Adicionando nossas geometrias\n",
    "# Como colocar nossos desenhos no mapa online\n",
    "folium.GeoJson(gdf).add_to(m)\n",
    "folium.GeoJson(feature_collection).add_to(m)\n",
    "\n",
    "# Mostrando o mapa\n",
    "m"
   ]
  },
  {
   "cell_type": "markdown",
   "metadata": {},
   "source": [
    "## 4. Validação e Boas Práticas\n",
    "\n",
    "### 4.1 Validando GeoJSON"
   ]
  },
  {
   "cell_type": "code",
   "execution_count": null,
   "metadata": {},
   "source": [
    "# Função para verificar se nosso GeoJSON está correto\n",
    "# Como um checklist para revisar nosso trabalho\n",
    "def validar_geojson(geojson_dict):\n",
    "    \"\"\"Checa se a estrutura básica do GeoJSON está correta\"\"\"\n",
    "    try:\n",
    "        if geojson_dict['type'] not in ['Feature', 'FeatureCollection']:\n",
    "            return False, \"Tipo de ficha inválido\"\n",
    "            \n",
    "        if geojson_dict['type'] == 'Feature':\n",
    "            if 'geometry' not in geojson_dict:\n",
    "                return False, \"Falta o desenho\"\n",
    "            if 'properties' not in geojson_dict:\n",
    "                return False, \"Faltam as informações\"\n",
    "                \n",
    "        return True, \"GeoJSON válido e completo\"\n",
    "    except Exception as e:\n",
    "        return False, str(e)\n",
    "\n",
    "# Testando nossa ficha\n",
    "valido, mensagem = validar_geojson(ponto_geojson)\n",
    "print(f\"Resultado da revisão: {mensagem}\")"
   ]
  },
  {
   "cell_type": "markdown",
   "metadata": {},
   "source": [
    "### 4.2 Boas Práticas\n",
    "\n",
    "1. **Nomenclatura**:\n",
    "   - Use nomes claros (como uma boa organização de arquivo)\n",
    "   - Mantenha um padrão (como um manual de preenchimento)\n",
    "   \n",
    "2. **Estrutura**:\n",
    "   - Geometrias simples (como desenhos limpos)\n",
    "   - Use FeatureCollection para grupos (como pastas organizadas)\n",
    "   \n",
    "3. **Coordenadas**:\n",
    "   - Precisão adequada (não precisa de 10 casas decimais)\n",
    "   - Verifique o sistema (como conferir a escala)\n",
    "   \n",
    "4. **Propriedades**:\n",
    "   - Inclua metadados importantes (como legendas)\n",
    "   - Mantenha tipos de dados consistentes (números com números, texto com texto)"
   ]
  },
  {
   "cell_type": "markdown",
   "metadata": {},
   "source": [
    "## 5. Exercícios Práticos\n",
    "\n",
    "Vamos praticar como um cartógrafo digital:\n",
    "\n",
    "1. Criação de GeoJSON:\n",
    "   - Marque as capitais do Sudeste no mapa\n",
    "   - Adicione dados de população e área\n",
    "   - Faça um mapa web bonito\n",
    "   - Como fazer um atlas digital\n",
    "\n",
    "2. Manipulação de Dados:\n",
    "   - Pegue um GeoJSON existente\n",
    "   - Adicione mais informações\n",
    "   - Calcule áreas e distâncias\n",
    "   - Como enriquecer nossos mapas\n",
    "\n",
    "3. Conversão de Formatos:\n",
    "   - Converta shapefile para GeoJSON\n",
    "   - Modifique alguns dados\n",
    "   - Converta de volta\n",
    "   - Compare os resultados"
   ]
  }
 ],
 "metadata": {
  "kernelspec": {
   "display_name": "Python 3",
   "language": "python",
   "name": "python3"
  },
  "language_info": {
   "codemirror_mode": {
    "name": "ipython",
    "version": 3
   },
   "file_extension": ".py",
   "mimetype": "text/x-python",
   "name": "python",
   "nbconvert_exporter": "python",
   "pygments_lexer": "ipython3",
   "version": "3.8.0"
  }
 },
 "nbformat": 4,
 "nbformat_minor": 4
}
