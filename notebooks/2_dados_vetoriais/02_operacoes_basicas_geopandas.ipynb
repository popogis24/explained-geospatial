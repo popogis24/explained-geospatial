{
 "cells": [
  {
   "cell_type": "markdown",
   "metadata": {},
   "source": [
    "# Operações Básicas com GeoPandas\n",
    "\n",
    "GeoPandas é como uma mesa de trabalho digital para cartógrafos. Se no ArcGIS ou QGIS você usa menus e botões, aqui vamos fazer as mesmas operações com código - é como aprender os atalhos do teclado para trabalhar mais rápido!\n",
    "\n",
    "## Objetivos\n",
    "- Entender o GeoDataFrame (nossa planilha espacial)\n",
    "- Fazer operações básicas de leitura e escrita (abrir e salvar mapas)\n",
    "- Manipular dados espaciais (editar nossos mapas)\n",
    "- Criar visualizações básicas (fazer layouts)"
   ]
  },
  {
   "cell_type": "markdown",
   "metadata": {},
   "source": [
    "## 1. Configuração do Ambiente\n",
    "\n",
    "Primeiro, vamos preparar nossa mesa de trabalho digital:"
   ]
  },
  {
   "cell_type": "code",
   "execution_count": null,
   "metadata": {},
   "source": [
    "# Nossas ferramentas digitais:\n",
    "import geopandas as gpd          # Nossa mesa de trabalho espacial\n",
    "import pandas as pd              # Nossa planilha de atributos\n",
    "import matplotlib.pyplot as plt   # Nossa ferramenta de layout\n",
    "from shapely.geometry import Point, Polygon  # Nossas ferramentas de desenho\n",
    "import numpy as np               # Nossa calculadora avançada\n",
    "\n",
    "# Configurando o tamanho padrão dos mapas\n",
    "# Como ajustar o tamanho do papel\n",
    "plt.rcParams['figure.figsize'] = (12, 8)"
   ]
  },
  {
   "cell_type": "markdown",
   "metadata": {},
   "source": [
    "## 2. GeoDataFrame: Conceitos Básicos\n",
    "\n",
    "Um GeoDataFrame é como uma planilha do Excel turbinada com geometrias. Cada linha é um feature (ponto, linha ou polígono) e cada coluna é um atributo, exatamente como na tabela de atributos do seu SIG favorito!"
   ]
  },
  {
   "cell_type": "code",
   "execution_count": null,
   "metadata": {},
   "source": [
    "# Vamos criar um GeoDataFrame com as capitais do Sudeste\n",
    "# Como criar uma nova camada de pontos no seu SIG\n",
    "capitais = {\n",
    "    'cidade': ['São Paulo', 'Rio de Janeiro', 'Belo Horizonte', 'Vitória'],\n",
    "    'estado': ['SP', 'RJ', 'MG', 'ES'],\n",
    "    'populacao': [12325232, 6747815, 2722000, 365855],\n",
    "    'geometry': [\n",
    "        Point(-46.6333, -23.5505),  # SP (como um pin no mapa)\n",
    "        Point(-43.1729, -22.9068),  # RJ\n",
    "        Point(-43.9378, -19.9208),  # BH\n",
    "        Point(-40.3182, -20.3155)   # Vitória\n",
    "    ]\n",
    "}\n",
    "\n",
    "# Criando o GeoDataFrame\n",
    "# Como criar uma nova camada com tabela de atributos\n",
    "gdf_capitais = gpd.GeoDataFrame(capitais, crs=\"EPSG:4326\")\n",
    "print(\"Nossa tabela de atributos das capitais:\")\n",
    "print(gdf_capitais)"
   ]
  },
  {
   "cell_type": "markdown",
   "metadata": {},
   "source": [
    "## 3. Operações Básicas\n",
    "\n",
    "### 3.1 Leitura e Escrita de Dados"
   ]
  },
  {
   "cell_type": "code",
   "execution_count": null,
   "metadata": {},
   "source": [
    "# Salvando em diferentes formatos\n",
    "# Como exportar uma camada para diferentes formatos\n",
    "gdf_capitais.to_file('../data/processed/capitais.geojson', driver='GeoJSON')\n",
    "gdf_capitais.to_file('../data/processed/capitais.shp')\n",
    "\n",
    "# Lendo os dados salvos\n",
    "# Como importar uma camada no seu SIG\n",
    "capitais_geojson = gpd.read_file('../data/processed/capitais.geojson')\n",
    "print(\"\\nDados lidos do GeoJSON (como abrir uma camada):\")\n",
    "print(capitais_geojson.head())"
   ]
  },
  {
   "cell_type": "markdown",
   "metadata": {},
   "source": [
    "### 3.2 Filtragem e Seleção"
   ]
  },
  {
   "cell_type": "code",
   "execution_count": null,
   "metadata": {},
   "source": [
    "# Filtrando por atributos\n",
    "# Como usar 'Select by Attributes' no seu SIG\n",
    "grandes_cidades = gdf_capitais[gdf_capitais['populacao'] > 1000000]\n",
    "print(\"Cidades com mais de 1 milhão de habitantes:\")\n",
    "print(grandes_cidades[['cidade', 'populacao']])\n",
    "\n",
    "# Selecionando por localização\n",
    "# Como usar 'Select by Location' no seu SIG\n",
    "bbox = [-47, -24, -43, -22]  # [minx, miny, maxx, maxy]\n",
    "cidades_bbox = gdf_capitais.cx[bbox[0]:bbox[2], bbox[1]:bbox[3]]\n",
    "print(\"\\nCidades dentro da nossa área de interesse:\")\n",
    "print(cidades_bbox['cidade'])"
   ]
  },
  {
   "cell_type": "markdown",
   "metadata": {},
   "source": [
    "### 3.3 Atributos Espaciais"
   ]
  },
  {
   "cell_type": "code",
   "execution_count": null,
   "metadata": {},
   "source": [
    "# Calculando centroides\n",
    "# Como usar a ferramenta 'Feature to Point'\n",
    "print(\"Coordenadas do centro de cada ponto:\")\n",
    "print(gdf_capitais.geometry.centroid)\n",
    "\n",
    "# Calculando envelope (bbox)\n",
    "# Como usar 'Minimum Bounding Geometry'\n",
    "print(\"\\nRetângulo envolvente de todas as capitais:\")\n",
    "print(gdf_capitais.total_bounds)"
   ]
  },
  {
   "cell_type": "markdown",
   "metadata": {},
   "source": [
    "### 3.4 Operações com Coordenadas"
   ]
  },
  {
   "cell_type": "code",
   "execution_count": null,
   "metadata": {},
   "source": [
    "# Extraindo coordenadas\n",
    "# Como ver as coordenadas de cada ponto\n",
    "gdf_capitais['longitude'] = gdf_capitais.geometry.x\n",
    "gdf_capitais['latitude'] = gdf_capitais.geometry.y\n",
    "\n",
    "# Reprojetando para UTM\n",
    "# Como usar 'Project' no seu SIG\n",
    "gdf_capitais_utm = gdf_capitais.to_crs('EPSG:32723')  # UTM 23S\n",
    "\n",
    "print(\"Coordenadas em graus (como no GPS):\")\n",
    "print(gdf_capitais[['cidade', 'longitude', 'latitude']])\n",
    "print(\"\\nCoordenadas em metros (como na topografia):\")\n",
    "print(gdf_capitais_utm.geometry)"
   ]
  },
  {
   "cell_type": "markdown",
   "metadata": {},
   "source": [
    "## 4. Visualização Básica"
   ]
  },
  {
   "cell_type": "code",
   "execution_count": null,
   "metadata": {},
   "source": [
    "# Criando diferentes visualizações\n",
    "# Como fazer diferentes layouts no seu SIG\n",
    "fig, ax = plt.subplots(1, 2, figsize=(15, 6))\n",
    "\n",
    "# Mapa de pontos simples\n",
    "# Como simbolizar pontos com o mesmo símbolo\n",
    "gdf_capitais.plot(ax=ax[0], color='red', markersize=50)\n",
    "ax[0].set_title('Capitais do Sudeste')\n",
    "\n",
    "# Mapa com símbolos proporcionais\n",
    "# Como fazer símbolos proporcionais à população\n",
    "gdf_capitais.plot(ax=ax[1], \n",
    "                  markersize=gdf_capitais['populacao']/100000,  # Tamanho proporcional\n",
    "                  color='blue')\n",
    "ax[1].set_title('Capitais - Tamanho proporcional à população')\n",
    "\n",
    "plt.tight_layout()\n",
    "plt.show()"
   ]
  },
  {
   "cell_type": "markdown",
   "metadata": {},
   "source": [
    "## 5. Operações com Tabelas"
   ]
  },
  {
   "cell_type": "code",
   "execution_count": null,
   "metadata": {},
   "source": [
    "# Criando dados adicionais\n",
    "# Como adicionar uma nova tabela com dados\n",
    "dados_extra = pd.DataFrame({\n",
    "    'cidade': ['São Paulo', 'Rio de Janeiro', 'Belo Horizonte', 'Vitória'],\n",
    "    'pib': [700000, 350000, 90000, 40000],  # PIB em milhões\n",
    "    'area': [1521, 1200, 331, 98]  # Área em km²\n",
    "})\n",
    "\n",
    "# Juntando os dados\n",
    "# Como fazer um 'Join' no seu SIG\n",
    "gdf_completo = gdf_capitais.merge(dados_extra, on='cidade')\n",
    "\n",
    "# Calculando densidade populacional\n",
    "# Como usar 'Field Calculator'\n",
    "gdf_completo['densidade'] = gdf_completo['populacao'] / gdf_completo['area']\n",
    "\n",
    "print(\"Dados completos das capitais:\")\n",
    "print(gdf_completo[['cidade', 'populacao', 'area', 'densidade', 'pib']])"
   ]
  },
  {
   "cell_type": "markdown",
   "metadata": {},
   "source": [
    "## 6. Exercícios Práticos\n",
    "\n",
    "Vamos praticar como um analista GIS:\n",
    "\n",
    "1. Manipulação de Dados:\n",
    "   - Crie uma camada com as 10 maiores cidades do seu estado\n",
    "   - Adicione dados de população e área\n",
    "   - Calcule a densidade populacional\n",
    "   - Faça um mapa temático bonito\n",
    "\n",
    "2. Análise Espacial Básica:\n",
    "   - Calcule as distâncias entre as capitais\n",
    "   - Encontre as duas mais próximas\n",
    "   - Crie buffers de 100km (como áreas de influência)\n",
    "   - Visualize os resultados\n",
    "\n",
    "3. Integração de Dados:\n",
    "   - Baixe dados extras (PIB, IDH, etc.)\n",
    "   - Junte com seus dados espaciais\n",
    "   - Crie mapas temáticos\n",
    "   - Analise as relações entre as variáveis"
   ]
  }
 ],
 "metadata": {
  "kernelspec": {
   "display_name": "Python 3",
   "language": "python",
   "name": "python3"
  },
  "language_info": {
   "codemirror_mode": {
    "name": "ipython",
    "version": 3
   },
   "file_extension": ".py",
   "mimetype": "text/x-python",
   "name": "python",
   "nbconvert_exporter": "python",
   "pygments_lexer": "ipython3",
   "version": "3.8.0"
  }
 },
 "nbformat": 4,
 "nbformat_minor": 4
}