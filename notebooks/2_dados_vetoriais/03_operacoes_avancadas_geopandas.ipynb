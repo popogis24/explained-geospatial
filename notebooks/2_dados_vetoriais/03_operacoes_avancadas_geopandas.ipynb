{
 "cells": [
  {
   "cell_type": "markdown",
   "metadata": {},
   "source": [
    "# Operações Avançadas com GeoPandas\n",
    "\n",
    "Se as operações básicas são como usar régua e compasso, as operações avançadas são como usar uma estação total ou um GPS RTK - mais complexas, mas muito mais poderosas! Vamos aprender a fazer análises espaciais sofisticadas usando código.\n",
    "\n",
    "## Objetivos\n",
    "- Realizar operações espaciais complexas (como overlay avançado)\n",
    "- Trabalhar com relacionamentos topológicos (como análise de redes)\n",
    "- Executar análises espaciais avançadas (como clustering)\n",
    "- Criar visualizações complexas (como mapas de calor)"
   ]
  },
  {
   "cell_type": "markdown",
   "metadata": {},
   "source": [
    "## 1. Configuração do Ambiente\n",
    "\n",
    "Vamos preparar nosso laboratório digital de análise espacial:"
   ]
  },
  {
   "cell_type": "code",
   "execution_count": null,
   "metadata": {},
   "source": [
    "# Nossa estação de trabalho avançada:\n",
    "import geopandas as gpd              # Nossa ferramenta SIG\n",
    "import pandas as pd                  # Nossa planilha de cálculo\n",
    "import matplotlib.pyplot as plt       # Nossa mesa de desenho\n",
    "from shapely.geometry import Point, Polygon, LineString  # Nossas ferramentas CAD\n",
    "from shapely.ops import unary_union  # Nossa ferramenta de dissolve\n",
    "import numpy as np                   # Nossa calculadora científica\n",
    "\n",
    "plt.rcParams['figure.figsize'] = (12, 8)"
   ]
  },
  {
   "cell_type": "markdown",
   "metadata": {},
   "source": [
    "## 2. Operações Topológicas\n",
    "\n",
    "### 2.1 Interseção, União e Diferença\n",
    "\n",
    "Estas operações são como usar papel vegetal para sobrepor mapas:"
   ]
  },
  {
   "cell_type": "code",
   "execution_count": null,
   "metadata": {},
   "source": [
    "# Criando polígonos de exemplo\n",
    "# Como desenhar duas áreas que se sobrepõem\n",
    "poligono1 = Polygon([(0, 0), (0, 2), (2, 2), (2, 0)])\n",
    "poligono2 = Polygon([(1, 1), (1, 3), (3, 3), (3, 1)])\n",
    "\n",
    "# Criando GeoDataFrames\n",
    "# Como preparar nossas camadas para análise\n",
    "gdf1 = gpd.GeoDataFrame({'geometry': [poligono1], 'nome': ['A']})\n",
    "gdf2 = gpd.GeoDataFrame({'geometry': [poligono2], 'nome': ['B']})\n",
    "\n",
    "# Operações topológicas\n",
    "# Como usar as ferramentas de geoprocessamento\n",
    "intersecao = gpd.overlay(gdf1, gdf2, how='intersection')  # Como 'Intersect'\n",
    "uniao = gpd.overlay(gdf1, gdf2, how='union')             # Como 'Union'\n",
    "diferenca = gpd.overlay(gdf1, gdf2, how='difference')     # Como 'Erase'\n",
    "\n",
    "# Visualização\n",
    "# Como ver os resultados de cada operação\n",
    "fig, (ax1, ax2, ax3) = plt.subplots(1, 3, figsize=(15, 5))\n",
    "\n",
    "# Mostrando a interseção\n",
    "gdf1.plot(ax=ax1, alpha=0.5, color='red')\n",
    "gdf2.plot(ax=ax1, alpha=0.5, color='blue')\n",
    "intersecao.plot(ax=ax1, color='purple')\n",
    "ax1.set_title('Interseção (área comum)')\n",
    "\n",
    "# Mostrando a união\n",
    "uniao.plot(ax=ax2, color='green')\n",
    "ax2.set_title('União (todas as áreas)')\n",
    "\n",
    "# Mostrando a diferença\n",
    "diferenca.plot(ax=ax3, color='orange')\n",
    "ax3.set_title('Diferença (A menos B)')\n",
    "\n",
    "plt.tight_layout()\n",
    "plt.show()"
   ]
  },
  {
   "cell_type": "markdown",
   "metadata": {},
   "source": [
    "### 2.2 Análise de Vizinhança"
   ]
  },
  {
   "cell_type": "code",
   "execution_count": null,
   "metadata": {},
   "source": [
    "# Carregando dados dos estados\n",
    "# Como abrir nossa camada de divisão política\n",
    "estados = gpd.read_file('../data/raw/BR_UF_2022.shp')\n",
    "\n",
    "# Encontrando vizinhos de São Paulo\n",
    "# Como usar 'Select Adjacent Features'\n",
    "sp = estados[estados['sigla'] == 'SP']\n",
    "vizinhos = estados[estados.geometry.touches(sp.geometry.iloc[0])]\n",
    "\n",
    "# Visualização\n",
    "# Como destacar um estado e seus vizinhos\n",
    "fig, ax = plt.subplots(1, 1, figsize=(12, 8))\n",
    "estados.plot(ax=ax, color='lightgray')\n",
    "sp.plot(ax=ax, color='red', alpha=0.6)\n",
    "vizinhos.plot(ax=ax, color='blue', alpha=0.4)\n",
    "\n",
    "plt.title('São Paulo e seus Estados Vizinhos')\n",
    "plt.show()\n",
    "\n",
    "print(\"Estados que fazem fronteira com São Paulo:\")\n",
    "print(vizinhos['nome'].tolist())"
   ]
  },
  {
   "cell_type": "markdown",
   "metadata": {},
   "source": [
    "## 3. Análise de Distância e Proximidade"
   ]
  },
  {
   "cell_type": "code",
   "execution_count": null,
   "metadata": {},
   "source": [
    "# Criando pontos de interesse (POIs)\n",
    "# Como marcar locais importantes no mapa\n",
    "pois = gpd.GeoDataFrame(\n",
    "    {'nome': ['Shopping A', 'Shopping B', 'Shopping C', 'Shopping D'],\n",
    "     'geometry': [Point(-46.65, -23.55), Point(-46.64, -23.54),\n",
    "                 Point(-46.63, -23.53), Point(-46.62, -23.52)]},\n",
    "    crs=\"EPSG:4326\"\n",
    ")\n",
    "\n",
    "# Convertendo para UTM para cálculos em metros\n",
    "# Como mudar para uma projeção que permite medir distâncias\n",
    "pois_utm = pois.to_crs(epsg=32723)\n",
    "\n",
    "# Matriz de distância\n",
    "# Como calcular distâncias entre todos os pontos\n",
    "matriz_dist = pd.DataFrame(\n",
    "    index=pois_utm['nome'],\n",
    "    columns=pois_utm['nome'],\n",
    "    data=[[g1.distance(g2) for g2 in pois_utm.geometry] \n",
    "          for g1 in pois_utm.geometry])\n",
    "\n",
    "print(\"Matriz de distâncias em metros:\")\n",
    "print(matriz_dist.round(2))"
   ]
  },
  {
   "cell_type": "markdown",
   "metadata": {},
   "source": [
    "## 4. Análise de Densidade e Clusters"
   ]
  },
  {
   "cell_type": "code",
   "execution_count": null,
   "metadata": {},
   "source": [
    "# Criando pontos aleatórios\n",
    "# Como simular uma distribuição de ocorrências\n",
    "np.random.seed(42)\n",
    "n_points = 100\n",
    "points = gpd.GeoDataFrame(\n",
    "    {'geometry': [Point(xy) for xy in np.random.rand(n_points, 2)],\n",
    "     'valor': np.random.rand(n_points)}\n",
    ")\n",
    "\n",
    "# Criando grid para análise de densidade\n",
    "# Como fazer um mapa de calor (heatmap)\n",
    "from shapely.geometry import box\n",
    "\n",
    "def create_grid(bounds, nx, ny):\n",
    "    \"\"\"Cria uma grade regular (como quadrículas de análise)\"\"\"\n",
    "    xmin, ymin, xmax, ymax = bounds\n",
    "    cell_width = (xmax - xmin) / nx\n",
    "    cell_height = (ymax - ymin) / ny\n",
    "    \n",
    "    grid_cells = []\n",
    "    for i in range(nx):\n",
    "        for j in range(ny):\n",
    "            x1 = xmin + i * cell_width\n",
    "            y1 = ymin + j * cell_height\n",
    "            x2 = x1 + cell_width\n",
    "            y2 = y1 + cell_height\n",
    "            grid_cells.append(box(x1, y1, x2, y2))\n",
    "    \n",
    "    return gpd.GeoDataFrame({'geometry': grid_cells})\n",
    "\n",
    "grid = create_grid(points.total_bounds, 10, 10)\n",
    "\n",
    "# Contando pontos em cada célula\n",
    "# Como fazer análise de densidade por quadrícula\n",
    "grid['count'] = grid.geometry.apply(lambda cell: sum(points.geometry.intersects(cell)))\n",
    "\n",
    "# Visualização\n",
    "fig, (ax1, ax2) = plt.subplots(1, 2, figsize=(15, 6))\n",
    "\n",
    "points.plot(ax=ax1, markersize=50, alpha=0.5)\n",
    "ax1.set_title('Distribuição dos Pontos')\n",
    "\n",
    "grid.plot(column='count', legend=True, cmap='YlOrRd', ax=ax2)\n",
    "ax2.set_title('Análise de Densidade')\n",
    "\n",
    "plt.tight_layout()\n",
    "plt.show()"
   ]
  },
  {
   "cell_type": "markdown",
   "metadata": {},
   "source": [
    "## 5. Análise de Redes"
   ]
  },
  {
   "cell_type": "code",
   "execution_count": null,
   "metadata": {},
   "source": [
    "# Criando uma rede simples de ruas\n",
    "# Como digitalizar um sistema viário\n",
    "ruas = gpd.GeoDataFrame(\n",
    "    {'nome': ['Rua A', 'Rua B', 'Rua C', 'Rua D'],\n",
    "     'geometry': [\n",
    "         LineString([(0, 0), (1, 1)]),      # Como uma via principal\n",
    "         LineString([(1, 1), (2, 1)]),      # Como uma continuação\n",
    "         LineString([(1, 1), (1, 2)]),      # Como uma transversal\n",
    "         LineString([(2, 1), (2, 2)])       # Como uma paralela\n",
    "     ]}\n",
    ")\n",
    "\n",
    "# Encontrando intersecções\n",
    "# Como identificar cruzamentos\n",
    "intersecoes = []\n",
    "for idx1, rua1 in ruas.iterrows():\n",
    "    for idx2, rua2 in ruas.iterrows():\n",
    "        if idx1 < idx2:  # Evita duplicatas\n",
    "            if rua1.geometry.intersects(rua2.geometry):\n",
    "                ponto = rua1.geometry.intersection(rua2.geometry)\n",
    "                intersecoes.append({\n",
    "                    'geometry': ponto,\n",
    "                    'ruas': f\"{rua1['nome']} x {rua2['nome']}\"\n",
    "                })\n",
    "\n",
    "intersecoes_gdf = gpd.GeoDataFrame(intersecoes)\n",
    "\n",
    "# Visualização\n",
    "fig, ax = plt.subplots(1, 1, figsize=(10, 10))\n",
    "ruas.plot(ax=ax, color='blue')\n",
    "intersecoes_gdf.plot(ax=ax, color='red', markersize=100)\n",
    "plt.title('Rede de Ruas e seus Cruzamentos')\n",
    "plt.show()"
   ]
  },
  {
   "cell_type": "markdown",
   "metadata": {},
   "source": [
    "## 6. Exercícios Práticos\n",
    "\n",
    "Vamos praticar como um analista GIS avançado:\n",
    "\n",
    "1. Análise de Áreas de Influência:\n",
    "   - Carregue pontos de escolas\n",
    "   - Crie buffers de 1km (como raio de atendimento)\n",
    "   - Identifique áreas com sobreposição\n",
    "   - Calcule população atendida\n",
    "\n",
    "2. Análise de Conectividade:\n",
    "   - Use dados do sistema viário\n",
    "   - Identifique nós principais\n",
    "   - Calcule métricas de rede\n",
    "   - Visualize áreas mais conectadas\n",
    "\n",
    "3. Análise de Clusters:\n",
    "   - Use dados de ocorrências\n",
    "   - Identifique hot spots\n",
    "   - Crie mapas de calor\n",
    "   - Sugira intervenções baseadas na análise"
   ]
  }
 ],
 "metadata": {
  "kernelspec": {
   "display_name": "Python 3",
   "language": "python",
   "name": "python3"
  },
  "language_info": {
   "codemirror_mode": {
    "name": "ipython",
    "version": 3
   },
   "file_extension": ".py",
   "mimetype": "text/x-python",
   "name": "python",
   "nbconvert_exporter": "python",
   "pygments_lexer": "ipython3",
   "version": "3.8.0"
  }
 },
 "nbformat": 4,
 "nbformat_minor": 4
}